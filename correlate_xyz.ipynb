{
 "cells": [
  {
   "cell_type": "code",
   "execution_count": 33,
   "metadata": {},
   "outputs": [],
   "source": [
    "import numpy as np\n",
    "import os\n",
    "import matplotlib\n",
    "import matplotlib.pyplot as plt\n",
    "matplotlib.rcParams.update({'font.size': 16})\n"
   ]
  },
  {
   "cell_type": "code",
   "execution_count": 40,
   "metadata": {},
   "outputs": [],
   "source": [
    "def read_xyz(xyz):\n",
    "    coordlist=[]\n",
    "    with open(xyz,'r') as inp:\n",
    "        i=0\n",
    "        for line in inp:  \n",
    "            if (i==1):\n",
    "                try:\n",
    "                    en0=float(line.strip().split(' ')[-1])\n",
    "                except:\n",
    "                    en0=-1\n",
    "            if i>=2:\n",
    "                splitline=line.split()\n",
    "                coordlist.append(splitline[1:4])\n",
    "            i+=1\n",
    "    return (np.array(coordlist).astype(float),en0)\n",
    "\n",
    "def write_xyz(coordlist,name):\n",
    "    with open(name,'w') as f:\n",
    "        f.write(str(len(coordlist))+'\\n#\\n')\n",
    "        for cd in coordlist:\n",
    "            f.write('C '+str(cd[0])+' '+str(cd[1])+' '+str(cd[2])+'\\n')\n",
    "    \n",
    "def write_xyz_stack(path,filenamearray):\n",
    "    with open(path+'xyz_stack.xyz','w') as f:\n",
    "        for file in filenamearray:\n",
    "            cl=read_xyz(file)\n",
    "            f.write(str(len(cl))+'\\n'+filename+'\\n')\n",
    "            for coords in cl:\n",
    "                f.write('C '+str(coords[0])+' '+str(coords[1])+' '+str(coords[2])+'\\n')\n",
    "        "
   ]
  },
  {
   "cell_type": "code",
   "execution_count": 50,
   "metadata": {},
   "outputs": [
    {
     "name": "stdout",
     "output_type": "stream",
     "text": [
      "reading tests_small/master.xyz\n",
      "0.2217013971479633\n",
      "reading tests_small/001/master.xyz\n",
      "0.21710526560859703\n",
      "reading tests_small/003/master.xyz\n",
      "0.20920676906092311\n",
      "reading tests_small/005/master.xyz\n",
      "0.20247661291673327\n",
      "reading tests_small/007/master.xyz\n",
      "0.1966082160688876\n",
      "reading tests_small/010/master.xyz\n",
      "0.18913477639140605\n",
      "reading tests_small/015/master.xyz\n",
      "0.1794309397275116\n",
      "reading tests_small/020/master.xyz\n",
      "0.17185051670836726\n",
      "reading tests_small/030/master.xyz\n",
      "0.1604941276626667\n",
      "reading tests_small/040/master.xyz\n",
      "0.1515842576032425\n",
      "reading tests_small/050/master.xyz\n",
      "0.14374783814149858\n",
      "reading tests_small/060/master.xyz\n",
      "0.13640343342852382\n",
      "reading tests_small/070/master.xyz\n",
      "0.12938029269950313\n",
      "reading tests_small/080/master.xyz\n",
      "0.12300243234358188\n",
      "reading tests_small/082/master.xyz\n",
      "0.12192585205798787\n",
      "reading tests_small/087/master.xyz\n",
      "0.1200354659534454\n",
      "reading tests_small/090/master.xyz\n",
      "0.12013538897557555\n",
      "reading tests_small/092/master.xyz\n",
      "0.12145203712099381\n",
      "reading tests_small/095/master.xyz\n",
      "0.1284110090498279\n",
      "reading tests_small/097/master.xyz\n",
      "0.1405490075265034\n",
      "reading tests_small/100/master.xyz\n",
      "0.4865384547001933\n"
     ]
    }
   ],
   "source": [
    "## read xyz files ##\n",
    "path='tests_small/'\n",
    "file2=path+'relaxed_new.xyz'\n",
    "filename='master.xyz'\n",
    "\n",
    "filenamearray=[]\n",
    "##loop over all master.xyz\n",
    "#file1='master.xyz'\n",
    "k=0\n",
    "errorarray=[]\n",
    "energyarray=[]\n",
    "for subdir, dirs, files in sorted(os.walk(path)):\n",
    "    for file in files:\n",
    "        if file==filename:\n",
    "            f=os.path.join(subdir, file)\n",
    "            print('reading '+f)\n",
    "            filenamearray.append(f)\n",
    "            file1=f\n",
    "            (cl1,en)=read_xyz(file1)\n",
    "            (cl2,en2)=read_xyz(file2)  \n",
    "            energyarray.append(en/100)\n",
    "            ## get some atoms with same id (manually) ##\n",
    "            same_ids=np.array([[1,8,249,229,242,17],[506,504,897,866,851,467]])\n",
    "            same_ids-=1\n",
    "\n",
    "\n",
    "            ## Rotate struture if necessairy ##\n",
    "            xrotate=False\n",
    "            if xrotate:\n",
    "                ys=cl2[:,1]*np.cos(3.1415)-cl2[:,2]*np.sin(3.1415)\n",
    "                zs=cl2[:,1]*np.sin(3.1415)+cl2[:,2]*np.cos(3.1415)\n",
    "\n",
    "                cl2[:,1]=ys\n",
    "                cl2[:,2]=zs\n",
    "\n",
    "            ## calculate translation vector from correlated atoms ##    \n",
    "            vec=np.zeros(3)\n",
    "            for i in range(len(same_ids[0])):\n",
    "                vec+=(cl1[same_ids[0,i]]-cl2[same_ids[1,i]])\n",
    "            vec/=i+1\n",
    "\n",
    "            ## apply translation ##\n",
    "            cl2+=vec\n",
    "\n",
    "\n",
    "\n",
    "            ## correlate all atoms ##\n",
    "            ids=[]\n",
    "            for coords in cl1:\n",
    "                diff=np.sqrt(np.sum((coords-cl2)**2,axis=1))\n",
    "                d=diff[np.argmin(diff)]\n",
    "                ids.append(np.argmin(diff))\n",
    "\n",
    "\n",
    "            ## calculate and apply translation of all correlated atoms ##\n",
    "            ## this finetunes the translation ##\n",
    "            vec=np.zeros(3)\n",
    "            for i in range(len(cl1)):\n",
    "                vec+=(cl1[i]-cl2[ids[i]])\n",
    "            vec/=i+1\n",
    "            cl2+=vec\n",
    "\n",
    "            ## calculate difference ##\n",
    "\n",
    "            totdiff=0\n",
    "            for i in range(len(cl1)):\n",
    "                totdiff+=np.sqrt(np.sum((cl1[i]-cl2[ids[i]])**2))\n",
    "            er=totdiff/len(cl1)\n",
    "            print(er)\n",
    "            errorarray.append(er)\n",
    "\n",
    "            ## write new xyz ##\n",
    "            #write_xyz(cl2,path+'relaxed_shifted'+str(k)+'.xyz')\n",
    "            #k+=1\n",
    "    \n",
    "#write_xyz_stack(path,filenamearray)"
   ]
  },
  {
   "cell_type": "code",
   "execution_count": 54,
   "metadata": {},
   "outputs": [
    {
     "data": {
      "image/png": "[encoded data removed]",
      "text/plain": [
       "<Figure size 504x360 with 1 Axes>"
      ]
     },
     "metadata": {
      "needs_background": "light"
     },
     "output_type": "display_data"
    }
   ],
   "source": [
    "plt.figure(figsize=(7,5))\n",
    "plt.plot(energyarray,errorarray,'go')\n",
    "plt.ylabel('mean error [$\\AA$]')\n",
    "plt.xlabel('$\\epsilon$')\n",
    "plt.ylim(0.1,0.25)\n",
    "plt.savefig('error.svg')\n",
    "\n",
    "plt.show()"
   ]
  },
  {
   "cell_type": "code",
   "execution_count": 30,
   "metadata": {},
   "outputs": [
    {
     "data": {
      "text/plain": [
       "array([[ -9.16839293,  66.25752236,  -0.46235224],\n",
       "       [ -9.52485293,  64.88608362,  -0.55662518],\n",
       "       [ -8.51529293,  63.88748479,  -0.54393265],\n",
       "       ...,\n",
       "       [ 69.45690707, -11.66515211,  -1.26253243],\n",
       "       [ 67.73313707, -13.40933619,  -1.09057083],\n",
       "       [ 69.10047707, -13.03654429,  -1.17800537]])"
      ]
     },
     "execution_count": 30,
     "metadata": {},
     "output_type": "execute_result"
    }
   ],
   "source": [
    "cl2"
   ]
  },
  {
   "cell_type": "code",
   "execution_count": null,
   "metadata": {},
   "outputs": [],
   "source": []
  }
 ],
 "metadata": {
  "kernelspec": {
   "display_name": "Python 3",
   "language": "python",
   "name": "python3"
  },
  "language_info": {
   "codemirror_mode": {
    "name": "ipython",
    "version": 3
   },
   "file_extension": ".py",
   "mimetype": "text/x-python",
   "name": "python",
   "nbconvert_exporter": "python",
   "pygments_lexer": "ipython3",
   "version": "3.7.1"
  }
 },
 "nbformat": 4,
 "nbformat_minor": 2
}
