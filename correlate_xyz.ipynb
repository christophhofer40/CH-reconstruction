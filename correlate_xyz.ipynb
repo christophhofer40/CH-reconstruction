{
 "cells": [
  {
   "cell_type": "code",
   "execution_count": 4,
   "metadata": {},
   "outputs": [],
   "source": [
    "import numpy as np\n",
    "import os"
   ]
  },
  {
   "cell_type": "code",
   "execution_count": 5,
   "metadata": {},
   "outputs": [],
   "source": [
    "def read_xyz(xyz):\n",
    "    coordlist=[]\n",
    "    with open(xyz,'r') as inp:\n",
    "        i=0\n",
    "        for line in inp:   \n",
    "            if i>=2:\n",
    "                splitline=line.split()\n",
    "                coordlist.append(splitline[1:4])\n",
    "            i+=1\n",
    "    return np.array(coordlist).astype(float)\n",
    "\n",
    "def write_xyz(coordlist,name):\n",
    "    with open(name,'w') as f:\n",
    "        f.write(str(len(coordlist))+'\\n#\\n')\n",
    "        for cd in coordlist:\n",
    "            f.write('C '+str(cd[0])+' '+str(cd[1])+' '+str(cd[2])+'\\n')\n",
    "    \n",
    "def write_xyz_stack(path,filenamearray):\n",
    "    with open(path+'xyz_stack.xyz','w') as f:\n",
    "        for file in filenamearray:\n",
    "            cl=read_xyz(file)\n",
    "            f.write(str(len(cl))+'\\n'+filename+'\\n')\n",
    "            for coords in cl:\n",
    "                f.write('C '+str(coords[0])+' '+str(coords[1])+' '+str(coords[2])+'\\n')\n",
    "        "
   ]
  },
  {
   "cell_type": "code",
   "execution_count": 6,
   "metadata": {},
   "outputs": [
    {
     "name": "stdout",
     "output_type": "stream",
     "text": [
      "reading tests_small/master.xyz\n",
      "0.22170248600671402\n",
      "reading tests_small/010/master.xyz\n",
      "0.18913477996312433\n",
      "reading tests_small/020/master.xyz\n",
      "0.17185053292072405\n",
      "reading tests_small/030/master.xyz\n",
      "0.16049410466327063\n",
      "reading tests_small/040/master.xyz\n",
      "0.15158427270165006\n",
      "reading tests_small/050/master.xyz\n",
      "0.1437478201490761\n",
      "reading tests_small/060/master.xyz\n",
      "0.1364034125176374\n",
      "reading tests_small/070/master.xyz\n",
      "0.1293802358542264\n",
      "reading tests_small/080/master.xyz\n",
      "0.1230021850448824\n",
      "reading tests_small/090/master.xyz\n",
      "0.12013504879611761\n",
      "reading tests_small/095/master.xyz\n",
      "0.1284110090498279\n",
      "reading tests_small/100/master.xyz\n",
      "0.4843397766496871\n"
     ]
    }
   ],
   "source": [
    "## read xyz files ##\n",
    "path='tests_small/'\n",
    "file2=path+'relaxed_new.xyz'\n",
    "filename='master.xyz'\n",
    "\n",
    "filenamearray=[]\n",
    "##loop over all master.xyz\n",
    "#file1='master.xyz'\n",
    "k=0\n",
    "for subdir, dirs, files in sorted(os.walk(path)):\n",
    "    for file in files:\n",
    "        if file==filename:\n",
    "            f=os.path.join(subdir, file)\n",
    "            print('reading '+f)\n",
    "            filenamearray.append(f)\n",
    "            file1=f\n",
    "            cl1=read_xyz(file1)\n",
    "            cl2=read_xyz(file2)  \n",
    "\n",
    "            ## get some atoms with same id (manually) ##\n",
    "            same_ids=np.array([[1,8,249,229,242,17],[506,504,897,866,851,467]])\n",
    "            same_ids-=1\n",
    "\n",
    "\n",
    "            ## Rotate struture if necessairy ##\n",
    "            xrotate=False\n",
    "            if xrotate:\n",
    "                ys=cl2[:,1]*np.cos(3.1415)-cl2[:,2]*np.sin(3.1415)\n",
    "                zs=cl2[:,1]*np.sin(3.1415)+cl2[:,2]*np.cos(3.1415)\n",
    "\n",
    "                cl2[:,1]=ys\n",
    "                cl2[:,2]=zs\n",
    "\n",
    "            ## calculate translation vector from correlated atoms ##    \n",
    "            vec=np.zeros(3)\n",
    "            for i in range(len(same_ids[0])):\n",
    "                vec+=(cl1[same_ids[0,i]]-cl2[same_ids[1,i]])\n",
    "            vec/=i+1\n",
    "\n",
    "            ## apply translation ##\n",
    "            cl2+=vec\n",
    "\n",
    "\n",
    "\n",
    "            ## correlate all atoms ##\n",
    "            ids=[]\n",
    "            for coords in cl1:\n",
    "                diff=np.sqrt(np.sum((coords-cl2)**2,axis=1))\n",
    "                d=diff[np.argmin(diff)]\n",
    "                ids.append(np.argmin(diff))\n",
    "\n",
    "\n",
    "            ## calculate and apply translation of all correlated atoms ##\n",
    "            ## this finetunes the translation ##\n",
    "            vec=np.zeros(3)\n",
    "            for i in range(len(cl1)):\n",
    "                vec+=(cl1[i]-cl2[ids[i]])\n",
    "            vec/=i+1\n",
    "            cl2+=vec\n",
    "\n",
    "            ## calculate difference ##\n",
    "\n",
    "            totdiff=0\n",
    "            for i in range(len(cl1)):\n",
    "                totdiff+=np.sqrt(np.sum((cl1[i]-cl2[ids[i]])**2))\n",
    "            print(totdiff/len(cl1))\n",
    "\n",
    "            ## write new xyz ##\n",
    "            #write_xyz(cl2,path+'relaxed_shifted'+str(k)+'.xyz')\n",
    "            #k+=1\n",
    "    \n",
    "write_xyz_stack(path,filenamearray)"
   ]
  },
  {
   "cell_type": "code",
   "execution_count": 117,
   "metadata": {},
   "outputs": [
    {
     "data": {
      "text/plain": [
       "array([-0.15836366,  0.01133166,  0.29158731])"
      ]
     },
     "execution_count": 117,
     "metadata": {},
     "output_type": "execute_result"
    }
   ],
   "source": []
  },
  {
   "cell_type": "code",
   "execution_count": null,
   "metadata": {},
   "outputs": [],
   "source": []
  }
 ],
 "metadata": {
  "kernelspec": {
   "display_name": "Python 3",
   "language": "python",
   "name": "python3"
  },
  "language_info": {
   "codemirror_mode": {
    "name": "ipython",
    "version": 3
   },
   "file_extension": ".py",
   "mimetype": "text/x-python",
   "name": "python",
   "nbconvert_exporter": "python",
   "pygments_lexer": "ipython3",
   "version": "3.7.1"
  }
 },
 "nbformat": 4,
 "nbformat_minor": 2
}
