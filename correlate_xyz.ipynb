{
 "cells": [
  {
   "cell_type": "code",
   "execution_count": 125,
   "metadata": {},
   "outputs": [],
   "source": [
    "import numpy as np\n",
    "import os"
   ]
  },
  {
   "cell_type": "code",
   "execution_count": 131,
   "metadata": {},
   "outputs": [],
   "source": [
    "def read_xyz(xyz):\n",
    "    coordlist=[]\n",
    "    with open(xyz,'r') as inp:\n",
    "        i=0\n",
    "        for line in inp:   \n",
    "            if i>=2:\n",
    "                splitline=line.split()\n",
    "                coordlist.append(splitline[1:4])\n",
    "            i+=1\n",
    "    return np.array(coordlist).astype(float)\n",
    "\n",
    "def write_xyz(coordlist,name):\n",
    "    with open(name,'w') as f:\n",
    "        f.write(str(len(coordlist))+'\\n#\\n')\n",
    "        for cd in coordlist:\n",
    "            f.write('C '+str(cd[0])+' '+str(cd[1])+' '+str(cd[2])+'\\n')"
   ]
  },
  {
   "cell_type": "code",
   "execution_count": 137,
   "metadata": {},
   "outputs": [
    {
     "name": "stdout",
     "output_type": "stream",
     "text": [
      "reading tests/master.xyz\n",
      "0.2657367095576301\n",
      "reading tests/001/master.xyz\n",
      "0.2608953363638614\n",
      "reading tests/002/master.xyz\n",
      "0.25670141908857635\n",
      "reading tests/003/master.xyz\n",
      "0.2532796053533918\n",
      "reading tests/005/master.xyz\n",
      "0.24749602096283313\n",
      "reading tests/010/master.xyz\n",
      "0.23552732746372682\n",
      "reading tests/015/master.xyz\n",
      "0.22704525252546706\n",
      "reading tests/020/master.xyz\n",
      "0.22065882912885457\n",
      "reading tests/030/master.xyz\n",
      "0.21087527767816935\n",
      "reading tests/040/master.xyz\n",
      "0.2034800945149704\n",
      "reading tests/050/master.xyz\n",
      "0.194339781871286\n",
      "reading tests/070/master.xyz\n",
      "0.2657367095576301\n",
      "reading tests/080/master.xyz\n",
      "0.17674223328181193\n",
      "reading tests/090/master.xyz\n",
      "0.2657367095576301\n",
      "reading tests/099/master.xyz\n",
      "0.2657367095576301\n",
      "reading tests/100/master.xyz\n",
      "0.22917682067902237\n"
     ]
    }
   ],
   "source": [
    "## read xyz files ##\n",
    "path='tests/'\n",
    "file2=path+'relaxed_new.xyz'\n",
    "filename='master.xyz'\n",
    "\n",
    "##loop over all master.xyz\n",
    "#file1='master.xyz'\n",
    "for subdir, dirs, files in sorted(os.walk(path)):\n",
    "    for file in files:\n",
    "        if file==filename:\n",
    "            f=os.path.join(subdir, file)\n",
    "            print('reading '+f)\n",
    "            \n",
    "            file1=f\n",
    "            cl1=read_xyz(file1)\n",
    "            cl2=read_xyz(file2)  \n",
    "\n",
    "            ## get some atoms with same id (manually) ##\n",
    "            same_ids=np.array([[1,8,267,31,45,124],[506,504,859,465,541,533]])\n",
    "            same_ids-=1\n",
    "\n",
    "\n",
    "            ## Rotate struture if necessairy ##\n",
    "            xrotate=False\n",
    "            if xrotate:\n",
    "                ys=cl2[:,1]*np.cos(3.1415)-cl2[:,2]*np.sin(3.1415)\n",
    "                zs=cl2[:,1]*np.sin(3.1415)+cl2[:,2]*np.cos(3.1415)\n",
    "\n",
    "                cl2[:,1]=ys\n",
    "                cl2[:,2]=zs\n",
    "\n",
    "            ## calculate translation vector from correlated atoms ##    \n",
    "            vec=np.zeros(3)\n",
    "            for i in range(len(same_ids[0])):\n",
    "                vec+=(cl1[same_ids[0,i]]-cl2[same_ids[1,i]])\n",
    "            vec/=i+1\n",
    "\n",
    "            ## apply translation ##\n",
    "            cl2+=vec\n",
    "\n",
    "\n",
    "\n",
    "            ## correlate all atoms ##\n",
    "            ids=[]\n",
    "            for coords in cl1:\n",
    "                diff=np.sqrt(np.sum((coords-cl2)**2,axis=1))\n",
    "                d=diff[np.argmin(diff)]\n",
    "                ids.append(np.argmin(diff))\n",
    "\n",
    "\n",
    "            ## calculate and apply translation of all correlated atoms ##\n",
    "            ## this finetunes the translation ##\n",
    "            vec=np.zeros(3)\n",
    "            for i in range(len(cl1)):\n",
    "                vec+=(cl1[i]-cl2[ids[i]])\n",
    "            vec/=i+1\n",
    "            cl2+=vec\n",
    "\n",
    "            ## calculate difference ##\n",
    "\n",
    "            totdiff=0\n",
    "            for i in range(len(cl1)):\n",
    "                totdiff+=np.sqrt(np.sum((cl1[i]-cl2[ids[i]])**2))\n",
    "            print(totdiff/len(cl1))\n",
    "\n",
    "            ## write new xyz ##\n",
    "            write_xyz(cl2,path+'relaxed_shifted.xyz')"
   ]
  },
  {
   "cell_type": "code",
   "execution_count": 117,
   "metadata": {},
   "outputs": [
    {
     "data": {
      "text/plain": [
       "array([-0.15836366,  0.01133166,  0.29158731])"
      ]
     },
     "execution_count": 117,
     "metadata": {},
     "output_type": "execute_result"
    }
   ],
   "source": []
  },
  {
   "cell_type": "code",
   "execution_count": null,
   "metadata": {},
   "outputs": [],
   "source": []
  }
 ],
 "metadata": {
  "kernelspec": {
   "display_name": "Python 3",
   "language": "python",
   "name": "python3"
  },
  "language_info": {
   "codemirror_mode": {
    "name": "ipython",
    "version": 3
   },
   "file_extension": ".py",
   "mimetype": "text/x-python",
   "name": "python",
   "nbconvert_exporter": "python",
   "pygments_lexer": "ipython3",
   "version": "3.7.1"
  }
 },
 "nbformat": 4,
 "nbformat_minor": 2
}
