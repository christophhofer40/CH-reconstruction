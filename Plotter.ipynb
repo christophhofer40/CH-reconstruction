{
 "cells": [
  {
   "cell_type": "code",
   "execution_count": 48,
   "metadata": {},
   "outputs": [
    {
     "name": "stdout",
     "output_type": "stream",
     "text": [
      "Using matplotlib backend: TkAgg\n"
     ]
    }
   ],
   "source": [
    "import matplotlib.pyplot as plt\n",
    "import Master\n",
    "import numpy as np\n",
    "from tifffile import TiffFile\n",
    "import os\n",
    "from IPython import get_ipython\n",
    "get_ipython().run_line_magic('matplotlib', 'auto')\n",
    "plt.rcParams.update({'font.size': 16})"
   ]
  },
  {
   "cell_type": "code",
   "execution_count": 51,
   "metadata": {},
   "outputs": [
    {
     "name": "stdout",
     "output_type": "stream",
     "text": [
      "initialize topology...\n"
     ]
    }
   ],
   "source": [
    "topfile='/home/christoph/gits/CH-reconstruction/tests_gb/gb18_41_prep_new.top'\n",
    "name=os.path.basename(topfile)\n",
    "path=os.path.dirname(topfile)+'/'\n",
    "stacked=False\n",
    "reset=False\n",
    "bplot=False\n",
    "twoDplot=True\n",
    "threeDplot=True\n",
    "\n",
    "\n",
    "try:\n",
    "    image_stack=TiffFile(topfile[:-4]+'.tif').asarray()\n",
    "except:\n",
    "    image_stack=TiffFile(topfile[:-8]+'.tif').asarray()\n",
    "    \n",
    "    \n",
    "if reset:\n",
    "    carbons=[]\n",
    "    impurities=[]\n",
    "try:\n",
    "    mask=TiffFile(path+'mask.tif').asarray()\n",
    "except FileNotFoundError:\n",
    "    mask=[]\n",
    "\n",
    "print('initialize topology...')\n",
    "master=Master.Master(topfile,path+'beamparameters.txt',image_stack,mask=mask)\n",
    "\n"
   ]
  },
  {
   "cell_type": "code",
   "execution_count": null,
   "metadata": {},
   "outputs": [],
   "source": [
    "if twoDplot:\n",
    "    f,ax=plt.subplots(len(master.views),4,figsize=(15,10))\n",
    "    ax=np.atleast_2d(ax)\n",
    "    f.suptitle('Plot of '+name,fontsize=28)\n",
    "    for i in range(len(master.views)):\n",
    "        for j in range(3):\n",
    "            ax[i,j].set_xticks([])\n",
    "            ax[i,j].set_yticks([])\n",
    "            ax[i,j].set_axis_off()\n",
    "\n",
    "        master.views[i].simulate_and_update_error()\n",
    "        ax[i,0].imshow(image_stack[i][~np.isnan(image_stack[i]).all(axis=0)])\n",
    "        ax[i,1].imshow(master.views[i].simulation[~np.isnan(master.views[i].simulation).all(axis=0)])\n",
    "        ax[i,2].imshow(master.views[i].diffimage[~np.isnan(master.views[i].diffimage).all(axis=0)])\n",
    "        ax[i,3].plot(master.views[i].track_error)\n",
    "    plt.tight_layout()\n",
    "    plt.show()\n",
    "\n",
    "\n",
    "\n",
    "if not stacked:\n",
    "    f2,ax2=plt.subplots(1,len(master.views),figsize=(20,5))\n",
    "    ax2=np.atleast_1d(ax2)\n",
    "    for i in range(len(master.views)):\n",
    "        ints=master.views[i].get_intensities()\n",
    "        intscarbon=ints[0]\n",
    "        intscarbon=intscarbon[intscarbon>0.2]\n",
    "        std=np.std(intscarbon)\n",
    "        ax2[i].hist([intscarbon,ints[1]],bins=30)\n",
    "        ax2[i].text(ax2[i].get_xlim()[1]/2+ax2[i].get_xlim()[0]/2,ax2[i].get_ylim()[1],r'$\\sigma=$'+str(round(std,3)),\n",
    "           verticalalignment='bottom',horizontalalignment='center',fontsize=16)\n",
    "        ax2[i].set_xlabel('relative intensities')\n",
    "        ax2[i].set_ylabel('counts')\n",
    "    plt.tight_layout()\n",
    "    plt.savefig(path+'intensities.svg')\n",
    "    plt.show()\n",
    "else:\n",
    "    if not bplot:\n",
    "        #f3=plt.figure(figsize=(15,10))\n",
    "        for i in range(len(master.views)):\n",
    "            carbons.append(master.views[i].get_intensities()[0])\n",
    "            impurities.append(master.views[i].get_intensities()[1])\n",
    "\n",
    "if bplot and stacked:\n",
    "    #impurities= [item for sublist in impurities for item in sublist]\n",
    "    #carbons= [item for sublist in carbons for item in sublist]\n",
    "    plt.xlim(0.3,2.2)\n",
    "    plt.hist([carbons,impurities],bins=30)\n",
    "    plt.show()"
   ]
  },
  {
   "cell_type": "code",
   "execution_count": 52,
   "metadata": {},
   "outputs": [
    {
     "name": "stdout",
     "output_type": "stream",
     "text": [
      "Using matplotlib backend: TkAgg\n"
     ]
    }
   ],
   "source": [
    "%matplotlib auto\n",
    "if threeDplot:\n",
    "    for view in master.views:\n",
    "        atlist=[]\n",
    "        for at in view.twoDatoms:\n",
    "            if at.atom.member:\n",
    "                atlist.append([at.x,at.y,at.x_calc,at.y_calc])\n",
    "        atlist=np.array(atlist)*view.fov/view.imageWidth\n",
    "        plt.figure()\n",
    "        plt.scatter(atlist[:,0],atlist[:,1],alpha=0.5,s=2)\n",
    "        plt.scatter(atlist[:,2],atlist[:,3],alpha=0.5,s=2)          \n",
    "        plt.axes().set_aspect('equal', 'datalim')\n",
    "        plt.show()\n",
    "            "
   ]
  },
  {
   "cell_type": "code",
   "execution_count": 13,
   "metadata": {},
   "outputs": [],
   "source": [
    "plt.scatter?"
   ]
  },
  {
   "cell_type": "code",
   "execution_count": null,
   "metadata": {},
   "outputs": [],
   "source": []
  }
 ],
 "metadata": {
  "kernelspec": {
   "display_name": "Python 3",
   "language": "python",
   "name": "python3"
  },
  "language_info": {
   "codemirror_mode": {
    "name": "ipython",
    "version": 3
   },
   "file_extension": ".py",
   "mimetype": "text/x-python",
   "name": "python",
   "nbconvert_exporter": "python",
   "pygments_lexer": "ipython3",
   "version": "3.7.2"
  }
 },
 "nbformat": 4,
 "nbformat_minor": 2
}
