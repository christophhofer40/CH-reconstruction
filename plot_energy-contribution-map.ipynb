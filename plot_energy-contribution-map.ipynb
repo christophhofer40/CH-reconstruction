{
 "cells": [
  {
   "cell_type": "code",
   "execution_count": 97,
   "metadata": {},
   "outputs": [],
   "source": [
    "import numpy as np\n",
    "import matplotlib.pyplot as plt\n",
    "import os\n",
    "import matplotlib\n",
    "\n",
    "matplotlib.rcParams.update({'font.size': 16})\n",
    "\n"
   ]
  },
  {
   "cell_type": "code",
   "execution_count": 98,
   "metadata": {},
   "outputs": [],
   "source": [
    "path='tests_small/'\n",
    "filename='noisy_projections.top'\n",
    "\n",
    "fov=60\n",
    "px=512\n",
    "scale=fov/px ## *100 from \n"
   ]
  },
  {
   "cell_type": "code",
   "execution_count": 99,
   "metadata": {},
   "outputs": [
    {
     "name": "stdout",
     "output_type": "stream",
     "text": [
      "reading tests_small/noisy_projections.top\n",
      "0.0\t-6.591177530278937\n",
      "reading tests_small/001/noisy_projections.top\n",
      "0.01\t-6.623413724408423\n",
      "reading tests_small/003/noisy_projections.top\n",
      "0.03\t-6.672318508916384\n",
      "reading tests_small/005/noisy_projections.top\n",
      "0.05\t-6.709479170828541\n",
      "reading tests_small/007/noisy_projections.top\n",
      "0.07\t-6.7391441405984915\n",
      "reading tests_small/010/noisy_projections.top\n",
      "0.1\t-6.773674600707004\n",
      "reading tests_small/015/noisy_projections.top\n",
      "0.15\t-6.8128819857975165\n",
      "reading tests_small/020/noisy_projections.top\n",
      "0.2\t-6.838730450106461\n",
      "reading tests_small/030/noisy_projections.top\n",
      "0.3\t-6.871356873641532\n",
      "reading tests_small/040/noisy_projections.top\n",
      "0.4\t-6.892206749649044\n",
      "reading tests_small/050/noisy_projections.top\n",
      "0.5\t-6.907796196177166\n",
      "reading tests_small/060/noisy_projections.top\n",
      "0.6\t-6.920774655754858\n",
      "reading tests_small/070/noisy_projections.top\n",
      "0.7\t-6.932331548225432\n",
      "reading tests_small/080/noisy_projections.top\n",
      "0.8\t-6.943029799684184\n",
      "reading tests_small/082/noisy_projections.top\n",
      "0.82\t-6.9450944659194525\n",
      "reading tests_small/087/noisy_projections.top\n",
      "0.87\t-6.950159163587044\n",
      "reading tests_small/090/noisy_projections.top\n",
      "0.9\t-6.953132588670103\n",
      "reading tests_small/092/noisy_projections.top\n",
      "0.92\t-6.955096635406419\n",
      "reading tests_small/095/noisy_projections.top\n",
      "0.95\t-6.9581120765662785\n",
      "reading tests_small/097/noisy_projections.top\n",
      "0.97\t-6.960217946308953\n",
      "reading tests_small/100/noisy_projections.top\n",
      "1.0\t-6.965894408345595\n"
     ]
    }
   ],
   "source": [
    "energy_contr=[]\n",
    "\n",
    "energies=[]\n",
    "deviations=[]\n",
    "\n",
    "atomarray=[]\n",
    "seenarray=[]\n",
    "for subdir, dirs, files in sorted(os.walk(path)):\n",
    "    for file in files:\n",
    "        if file==filename:\n",
    "            f=os.path.join(subdir, file)\n",
    "            print('reading '+f)\n",
    "            chapter=-1\n",
    "            ats=[[],[]]\n",
    "            seens=[[],[]]\n",
    "\n",
    "            with open(f,'r') as inp:\n",
    "                for line in inp:\n",
    "                    splitline=line.strip().split('\\t')\n",
    "                    if line.startswith('#ENERGY_CONTRIBUTION'):\n",
    "                        ec=int(splitline[1])/100\n",
    "                        energy_contr.append(ec)\n",
    "                        continue                        \n",
    "                    if line.startswith('#ENERGY'):       \n",
    "                        en=float(splitline[1])\n",
    "                        energies.append(en)\n",
    "                        print(str(ec)+'\\t'+str(en))\n",
    "                        \n",
    "                    if line.startswith('#DEVIATION'):     \n",
    "                        dev=float(splitline[1])*100 # [100pm² -> 1pm²]\n",
    "                        deviations.append(dev)\n",
    "                        continue\n",
    "                        \n",
    "                    if line.startswith('VIEW'):\n",
    "                        chapter+=1\n",
    "                        continue\n",
    "                    if line.startswith('ATOM'):\n",
    "                        if chapter!=-1:\n",
    "                            if int(splitline[1])>=0:\n",
    "                                ats[chapter].append(\n",
    "                                    [float(splitline[2]),float(splitline[3])])\n",
    "                    if line.startswith('SEEN'):\n",
    "                        if chapter!=-1:\n",
    "                            if int(splitline[1])>=0:\n",
    "                                if float(splitline[2])==0 and float(splitline[3])==0:\n",
    "                                    del ats[chapter][-1]\n",
    "                                    continue\n",
    "                                    \n",
    "                                seens[chapter].append(\n",
    "                                    [float(splitline[2]),float(splitline[3])])\n",
    "                            \n",
    "            atomarray.append(np.array(ats))\n",
    "            seenarray.append(np.array(seens))\n",
    "            \n",
    "#atomarray=np.array(atomarray)*scale\n",
    "#seenarray=np.array(seenarray)*scale\n",
    "#deviations=np.sqrt(deviations)\n"
   ]
  },
  {
   "cell_type": "code",
   "execution_count": 100,
   "metadata": {},
   "outputs": [
    {
     "data": {
      "image/png": "[encoded data removed]",
      "text/plain": [
       "<Figure size 504x360 with 2 Axes>"
      ]
     },
     "metadata": {
      "needs_background": "light"
     },
     "output_type": "display_data"
    }
   ],
   "source": [
    "f, (ax, ax2) = plt.subplots(2, 1, sharex=True,figsize=(7,5))\n",
    "ax.plot(energy_contr,deviations,'bo')\n",
    "ax2.plot(energy_contr,energies,'ro')\n",
    "\n",
    "xlims=(-0.05,1.05)\n",
    "\n",
    "# zoom-in / limit the view to different portions of the data\n",
    "offset=1.5\n",
    "ax.set_ylim(np.min(deviations)-offset, np.max(deviations[:-1])+offset)  # outliers only\n",
    "ax2.set_ylim(np.min(energies)-offset, np.max(energies[:-1])+offset)  # most of the data\n",
    "\n",
    "# hide the spines between ax and ax2\n",
    "ax.spines['bottom'].set_visible(False)\n",
    "ax2.spines['top'].set_visible(False)\n",
    "ax.xaxis.tick_top()\n",
    "ax.tick_params(labeltop='off')  # don't put tick labels at the top\n",
    "ax2.xaxis.tick_bottom()\n",
    "\n",
    "d = .01  # how big to make the diagonal lines in axes coordinates\n",
    "# arguments to pass to plot, just so we don't keep repeating them\n",
    "kwargs = dict(transform=ax.transAxes, color='k', clip_on=False)\n",
    "ax.plot((-d, +d), (-d, +d), **kwargs)        # top-left diagonal\n",
    "ax.plot((1 - d, 1 + d), (-d, +d), **kwargs)  # top-right diagonal\n",
    "\n",
    "kwargs.update(transform=ax2.transAxes)  # switch to the bottom axes\n",
    "ax2.plot((-d, +d), (1 - d, 1 + d), **kwargs)  # bottom-left diagonal\n",
    "ax2.plot((1 - d, 1 + d), (1 - d, 1 + d), **kwargs)  # bottom-right diagonal\n",
    "ax.legend(['$\\sum \\Delta u^2$ [pm²]'])\n",
    "ax2.legend(['Total energy/atom [eV]'])\n",
    "\n",
    "ax.set_xlim(xlims)\n",
    "ax2.set_ylim(-7.5,-6.3)\n",
    "ax.hlines(25,0,1,color='gray',linestyle='--')\n",
    "#ax.vlines(0.8,-8,40,color='gray',linestyle='--')\n",
    "#plt.vlines(0.8,-9,40,color='gray',linestyle='--')\n",
    "plt.xlabel('$\\epsilon$')\n",
    "plt.savefig('energy_contr.svg')\n",
    "plt.show()\n",
    "\n",
    "\n",
    "# What's cool about this is that now if we vary the distance between\n",
    "# ax and ax2 via f.subplots_adjust(hspace=...) or plt.subplot_tool(),\n",
    "# the diagonal lines will move accordingly, and stay right at the tips\n",
    "# of the spines they are 'breaking'"
   ]
  },
  {
   "cell_type": "code",
   "execution_count": 152,
   "metadata": {},
   "outputs": [
    {
     "name": "stdout",
     "output_type": "stream",
     "text": [
      "-0.007129363902859787\n",
      "3.668456978513202\n"
     ]
    }
   ],
   "source": [
    "print(energies[15]-energies[13])\n",
    "print(deviations[15]-deviations[13])"
   ]
  },
  {
   "cell_type": "code",
   "execution_count": 156,
   "metadata": {},
   "outputs": [
    {
     "name": "stdout",
     "output_type": "stream",
     "text": [
      "average deviation vector per atom:\t0.4548579840637708\n"
     ]
    },
    {
     "data": {
      "image/png": "[encoded data removed]",
      "text/plain": [
       "<Figure size 504x360 with 2 Axes>"
      ]
     },
     "metadata": {
      "needs_background": "light"
     },
     "output_type": "display_data"
    },
    {
     "name": "stdout",
     "output_type": "stream",
     "text": [
      "average deviation vector per atom:\t0.5539579629998738\n"
     ]
    },
    {
     "data": {
      "image/png": "[encoded data removed]",
      "text/plain": [
       "<Figure size 504x360 with 2 Axes>"
      ]
     },
     "metadata": {
      "needs_background": "light"
     },
     "output_type": "display_data"
    },
    {
     "name": "stdout",
     "output_type": "stream",
     "text": [
      "average deviation vector per atom:\t3.1861253672123073\n"
     ]
    },
    {
     "data": {
      "image/png": "[encoded data removed]",
      "text/plain": [
       "<Figure size 504x360 with 2 Axes>"
      ]
     },
     "metadata": {
      "needs_background": "light"
     },
     "output_type": "display_data"
    }
   ],
   "source": [
    "## forceplot (vectorplot)\n",
    "\n",
    "#f=plt.figure(figsize=(8,6))\n",
    "\n",
    "for i in range(len(atomarray)):\n",
    "    if i!=0 and i!=10 and i!=len(atomarray)-1:\n",
    "        continue\n",
    "\n",
    "    atoms=atomarray[i]*scale### energy 100, view 2\n",
    "    seens=seenarray[i]*scale\n",
    "\n",
    "\n",
    "    deviationvector=np.sqrt(np.sum((np.sum((seens-atoms),axis=0))**2))\n",
    "    print('average deviation vector per atom:\\t'+str(deviationvector))\n",
    "    f,ax=plt.subplots(1,2,figsize=(7,5))\n",
    "    angl=['$0^\\circ$','$20^\\circ$']\n",
    "    for j in range(2):\n",
    "        ax[j].plot(atoms[j][:,0],atoms[j][:,1],'bo',ms=3,alpha=0.5)\n",
    "        ax[j].plot(seens[j][:,0],seens[j][:,1],'ro',ms=3,alpha=0.5)\n",
    "        ax[j].quiver(atoms[j][:,0],atoms[j][:,1],seens[j][:,0]-atoms[j][:,0],seens[j][:,1]-atoms[j][:,1],\n",
    "               scale=1,angles=\"xy\", scale_units=\"xy\",alpha=0.5,width=0.015)\n",
    "        ax[j].set_aspect('equal')\n",
    "        ax[j].set_xlim((11,15))\n",
    "        ax[j].set_ylim((11,15))\n",
    "        ax[j].set_xlabel('x [$\\AA$]')\n",
    "        ax[j].set_ylabel('y [$\\AA$]')\n",
    "        ax[j].set_title(angl[j])\n",
    "    plt.tight_layout()\n",
    "    plt.savefig(path+'dev'+str(i)+'.svg')\n",
    "    plt.show()"
   ]
  },
  {
   "cell_type": "code",
   "execution_count": 108,
   "metadata": {},
   "outputs": [],
   "source": [
    "a=ax[i]"
   ]
  },
  {
   "cell_type": "code",
   "execution_count": 30,
   "metadata": {},
   "outputs": [
    {
     "data": {
      "text/plain": [
       "(346, 2)"
      ]
     },
     "execution_count": 30,
     "metadata": {},
     "output_type": "execute_result"
    }
   ],
   "source": []
  },
  {
   "cell_type": "code",
   "execution_count": 158,
   "metadata": {},
   "outputs": [
    {
     "data": {
      "text/plain": [
       "108.05517275572653"
      ]
     },
     "execution_count": 158,
     "metadata": {},
     "output_type": "execute_result"
    }
   ],
   "source": [
    "seens[aid,0]"
   ]
  },
  {
   "cell_type": "code",
   "execution_count": null,
   "metadata": {},
   "outputs": [],
   "source": []
  }
 ],
 "metadata": {
  "kernelspec": {
   "display_name": "Python 3",
   "language": "python",
   "name": "python3"
  },
  "language_info": {
   "codemirror_mode": {
    "name": "ipython",
    "version": 3
   },
   "file_extension": ".py",
   "mimetype": "text/x-python",
   "name": "python",
   "nbconvert_exporter": "python",
   "pygments_lexer": "ipython3",
   "version": "3.7.1"
  }
 },
 "nbformat": 4,
 "nbformat_minor": 2
}
