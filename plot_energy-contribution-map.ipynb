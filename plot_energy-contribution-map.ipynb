{
 "cells": [
  {
   "cell_type": "code",
   "execution_count": 1,
   "metadata": {},
   "outputs": [],
   "source": [
    "import numpy as np\n",
    "import matplotlib.pyplot as plt\n",
    "import os"
   ]
  },
  {
   "cell_type": "code",
   "execution_count": 18,
   "metadata": {},
   "outputs": [],
   "source": [
    "path='tests_small/'\n",
    "filename='noisy_projections_new.top'\n",
    "\n",
    "fov=60\n",
    "px=512\n",
    "scale=fov/px"
   ]
  },
  {
   "cell_type": "code",
   "execution_count": 19,
   "metadata": {},
   "outputs": [
    {
     "name": "stdout",
     "output_type": "stream",
     "text": [
      "reading tests_small/noisy_projections_new.top\n",
      "reading tests_small/001/noisy_projections_new.top\n",
      "0.01\t-6.622988943096031\n",
      "reading tests_small/003/noisy_projections_new.top\n",
      "0.03\t-6.672033893699456\n",
      "reading tests_small/005/noisy_projections_new.top\n",
      "0.05\t-6.709408679452144\n",
      "reading tests_small/007/noisy_projections_new.top\n",
      "0.07\t-6.739152870069515\n",
      "reading tests_small/010/noisy_projections_new.top\n",
      "0.1\t-6.773674600707004\n",
      "reading tests_small/015/noisy_projections_new.top\n",
      "0.15\t-6.812706147838455\n",
      "reading tests_small/020/noisy_projections_new.top\n",
      "0.2\t-6.838730450106461\n",
      "reading tests_small/030/noisy_projections_new.top\n",
      "0.3\t-6.871356873641532\n",
      "reading tests_small/040/noisy_projections_new.top\n",
      "0.4\t-6.892206749649044\n",
      "reading tests_small/050/noisy_projections_new.top\n",
      "0.5\t-6.907796196177166\n",
      "reading tests_small/060/noisy_projections_new.top\n",
      "0.6\t-6.920774655754858\n",
      "reading tests_small/070/noisy_projections_new.top\n",
      "0.7\t-6.932331548225432\n",
      "reading tests_small/080/noisy_projections_new.top\n",
      "0.8\t-6.943029799684184\n",
      "reading tests_small/082/noisy_projections_new.top\n",
      "0.82\t-6.945044165223429\n",
      "reading tests_small/087/noisy_projections_new.top\n",
      "0.87\t-6.950081427377641\n",
      "reading tests_small/090/noisy_projections_new.top\n",
      "0.9\t-6.953132588670103\n",
      "reading tests_small/092/noisy_projections_new.top\n",
      "0.92\t-6.954952330518142\n",
      "reading tests_small/097/noisy_projections_new.top\n",
      "0.97\t-6.959676980349278\n",
      "reading tests_small/100/noisy_projections_new.top\n",
      "1.0\t-6.965894408345595\n"
     ]
    }
   ],
   "source": [
    "energy_contr=[]\n",
    "\n",
    "energies=[]\n",
    "deviations=[]\n",
    "\n",
    "atomarray=[]\n",
    "seenarray=[]\n",
    "for subdir, dirs, files in sorted(os.walk(path)):\n",
    "    for file in files:\n",
    "        if file==filename:\n",
    "            f=os.path.join(subdir, file)\n",
    "            print('reading '+f)\n",
    "            chapter=-1\n",
    "            ats=[[],[]]\n",
    "            seens=[[],[]]\n",
    "\n",
    "            with open(f,'r') as inp:\n",
    "                for line in inp:\n",
    "                    splitline=line.strip().split('\\t')\n",
    "                    if line.startswith('#ENERGY_CONTRIBUTION'):\n",
    "                        ec=int(splitline[1])/100\n",
    "                        energy_contr.append(ec)\n",
    "                        continue                        \n",
    "                    if line.startswith('#ENERGY'):       \n",
    "                        en=float(splitline[1])\n",
    "                        energies.append(en)\n",
    "                        print(str(ec)+'\\t'+str(en))\n",
    "                        \n",
    "                    if line.startswith('#DEVIATION'):     \n",
    "                        dev=float(splitline[1])\n",
    "                        deviations.append(dev)\n",
    "                        continue\n",
    "                        \n",
    "                    if line.startswith('VIEW'):\n",
    "                        chapter+=1\n",
    "                        continue\n",
    "                    if line.startswith('ATOM'):\n",
    "                        if chapter!=-1:\n",
    "                            if int(splitline[1])>=0:\n",
    "                                ats[chapter].append(\n",
    "                                    [float(splitline[2]),float(splitline[3])])\n",
    "                    if line.startswith('SEEN'):\n",
    "                        if chapter!=-1:\n",
    "                            if int(splitline[1])>=0:\n",
    "                                if float(splitline[2])==0 and float(splitline[3])==0:\n",
    "                                    del ats[chapter][-1]\n",
    "                                    continue\n",
    "                                    \n",
    "                                seens[chapter].append(\n",
    "                                    [float(splitline[2]),float(splitline[3])])\n",
    "                            \n",
    "            atomarray.append(ats)\n",
    "            seenarray.append(seens)\n",
    "            \n",
    "atomarray=np.array(atomarray)*scale\n",
    "seenarray=np.array(seenarray)*scale\n",
    "deviations=np.sqrt(deviations)\n"
   ]
  },
  {
   "cell_type": "code",
   "execution_count": 20,
   "metadata": {},
   "outputs": [
    {
     "ename": "ValueError",
     "evalue": "x and y must have same first dimension, but have shapes (20,) and (19,)",
     "output_type": "error",
     "traceback": [
      "\u001b[0;31m---------------------------------------------------------------------------\u001b[0m",
      "\u001b[0;31mValueError\u001b[0m                                Traceback (most recent call last)",
      "\u001b[0;32m<ipython-input-20-79899941f35e>\u001b[0m in \u001b[0;36m<module>\u001b[0;34m\u001b[0m\n\u001b[1;32m      1\u001b[0m \u001b[0mf\u001b[0m\u001b[0;34m,\u001b[0m \u001b[0;34m(\u001b[0m\u001b[0max\u001b[0m\u001b[0;34m,\u001b[0m \u001b[0max2\u001b[0m\u001b[0;34m)\u001b[0m \u001b[0;34m=\u001b[0m \u001b[0mplt\u001b[0m\u001b[0;34m.\u001b[0m\u001b[0msubplots\u001b[0m\u001b[0;34m(\u001b[0m\u001b[0;36m2\u001b[0m\u001b[0;34m,\u001b[0m \u001b[0;36m1\u001b[0m\u001b[0;34m,\u001b[0m \u001b[0msharex\u001b[0m\u001b[0;34m=\u001b[0m\u001b[0;32mTrue\u001b[0m\u001b[0;34m,\u001b[0m\u001b[0mfigsize\u001b[0m\u001b[0;34m=\u001b[0m\u001b[0;34m(\u001b[0m\u001b[0;36m6\u001b[0m\u001b[0;34m,\u001b[0m\u001b[0;36m5\u001b[0m\u001b[0;34m)\u001b[0m\u001b[0;34m)\u001b[0m\u001b[0;34m\u001b[0m\u001b[0;34m\u001b[0m\u001b[0m\n\u001b[1;32m      2\u001b[0m \u001b[0max\u001b[0m\u001b[0;34m.\u001b[0m\u001b[0mplot\u001b[0m\u001b[0;34m(\u001b[0m\u001b[0menergy_contr\u001b[0m\u001b[0;34m,\u001b[0m\u001b[0mdeviations\u001b[0m\u001b[0;34m,\u001b[0m\u001b[0;34m'bo'\u001b[0m\u001b[0;34m)\u001b[0m\u001b[0;34m\u001b[0m\u001b[0;34m\u001b[0m\u001b[0m\n\u001b[0;32m----> 3\u001b[0;31m \u001b[0max2\u001b[0m\u001b[0;34m.\u001b[0m\u001b[0mplot\u001b[0m\u001b[0;34m(\u001b[0m\u001b[0menergy_contr\u001b[0m\u001b[0;34m,\u001b[0m\u001b[0menergies\u001b[0m\u001b[0;34m,\u001b[0m\u001b[0;34m'ro'\u001b[0m\u001b[0;34m)\u001b[0m\u001b[0;34m\u001b[0m\u001b[0;34m\u001b[0m\u001b[0m\n\u001b[0m\u001b[1;32m      4\u001b[0m \u001b[0;34m\u001b[0m\u001b[0m\n\u001b[1;32m      5\u001b[0m \u001b[0;34m\u001b[0m\u001b[0m\n",
      "\u001b[0;32m~/anaconda3/lib/python3.7/site-packages/matplotlib/__init__.py\u001b[0m in \u001b[0;36minner\u001b[0;34m(ax, data, *args, **kwargs)\u001b[0m\n\u001b[1;32m   1808\u001b[0m                         \u001b[0;34m\"the Matplotlib list!)\"\u001b[0m \u001b[0;34m%\u001b[0m \u001b[0;34m(\u001b[0m\u001b[0mlabel_namer\u001b[0m\u001b[0;34m,\u001b[0m \u001b[0mfunc\u001b[0m\u001b[0;34m.\u001b[0m\u001b[0m__name__\u001b[0m\u001b[0;34m)\u001b[0m\u001b[0;34m,\u001b[0m\u001b[0;34m\u001b[0m\u001b[0;34m\u001b[0m\u001b[0m\n\u001b[1;32m   1809\u001b[0m                         RuntimeWarning, stacklevel=2)\n\u001b[0;32m-> 1810\u001b[0;31m             \u001b[0;32mreturn\u001b[0m \u001b[0mfunc\u001b[0m\u001b[0;34m(\u001b[0m\u001b[0max\u001b[0m\u001b[0;34m,\u001b[0m \u001b[0;34m*\u001b[0m\u001b[0margs\u001b[0m\u001b[0;34m,\u001b[0m \u001b[0;34m**\u001b[0m\u001b[0mkwargs\u001b[0m\u001b[0;34m)\u001b[0m\u001b[0;34m\u001b[0m\u001b[0;34m\u001b[0m\u001b[0m\n\u001b[0m\u001b[1;32m   1811\u001b[0m \u001b[0;34m\u001b[0m\u001b[0m\n\u001b[1;32m   1812\u001b[0m         inner.__doc__ = _add_data_doc(inner.__doc__,\n",
      "\u001b[0;32m~/anaconda3/lib/python3.7/site-packages/matplotlib/axes/_axes.py\u001b[0m in \u001b[0;36mplot\u001b[0;34m(self, scalex, scaley, *args, **kwargs)\u001b[0m\n\u001b[1;32m   1609\u001b[0m         \u001b[0mkwargs\u001b[0m \u001b[0;34m=\u001b[0m \u001b[0mcbook\u001b[0m\u001b[0;34m.\u001b[0m\u001b[0mnormalize_kwargs\u001b[0m\u001b[0;34m(\u001b[0m\u001b[0mkwargs\u001b[0m\u001b[0;34m,\u001b[0m \u001b[0mmlines\u001b[0m\u001b[0;34m.\u001b[0m\u001b[0mLine2D\u001b[0m\u001b[0;34m.\u001b[0m\u001b[0m_alias_map\u001b[0m\u001b[0;34m)\u001b[0m\u001b[0;34m\u001b[0m\u001b[0;34m\u001b[0m\u001b[0m\n\u001b[1;32m   1610\u001b[0m \u001b[0;34m\u001b[0m\u001b[0m\n\u001b[0;32m-> 1611\u001b[0;31m         \u001b[0;32mfor\u001b[0m \u001b[0mline\u001b[0m \u001b[0;32min\u001b[0m \u001b[0mself\u001b[0m\u001b[0;34m.\u001b[0m\u001b[0m_get_lines\u001b[0m\u001b[0;34m(\u001b[0m\u001b[0;34m*\u001b[0m\u001b[0margs\u001b[0m\u001b[0;34m,\u001b[0m \u001b[0;34m**\u001b[0m\u001b[0mkwargs\u001b[0m\u001b[0;34m)\u001b[0m\u001b[0;34m:\u001b[0m\u001b[0;34m\u001b[0m\u001b[0;34m\u001b[0m\u001b[0m\n\u001b[0m\u001b[1;32m   1612\u001b[0m             \u001b[0mself\u001b[0m\u001b[0;34m.\u001b[0m\u001b[0madd_line\u001b[0m\u001b[0;34m(\u001b[0m\u001b[0mline\u001b[0m\u001b[0;34m)\u001b[0m\u001b[0;34m\u001b[0m\u001b[0;34m\u001b[0m\u001b[0m\n\u001b[1;32m   1613\u001b[0m             \u001b[0mlines\u001b[0m\u001b[0;34m.\u001b[0m\u001b[0mappend\u001b[0m\u001b[0;34m(\u001b[0m\u001b[0mline\u001b[0m\u001b[0;34m)\u001b[0m\u001b[0;34m\u001b[0m\u001b[0;34m\u001b[0m\u001b[0m\n",
      "\u001b[0;32m~/anaconda3/lib/python3.7/site-packages/matplotlib/axes/_base.py\u001b[0m in \u001b[0;36m_grab_next_args\u001b[0;34m(self, *args, **kwargs)\u001b[0m\n\u001b[1;32m    391\u001b[0m                 \u001b[0mthis\u001b[0m \u001b[0;34m+=\u001b[0m \u001b[0margs\u001b[0m\u001b[0;34m[\u001b[0m\u001b[0;36m0\u001b[0m\u001b[0;34m]\u001b[0m\u001b[0;34m,\u001b[0m\u001b[0;34m\u001b[0m\u001b[0;34m\u001b[0m\u001b[0m\n\u001b[1;32m    392\u001b[0m                 \u001b[0margs\u001b[0m \u001b[0;34m=\u001b[0m \u001b[0margs\u001b[0m\u001b[0;34m[\u001b[0m\u001b[0;36m1\u001b[0m\u001b[0;34m:\u001b[0m\u001b[0;34m]\u001b[0m\u001b[0;34m\u001b[0m\u001b[0;34m\u001b[0m\u001b[0m\n\u001b[0;32m--> 393\u001b[0;31m             \u001b[0;32myield\u001b[0m \u001b[0;32mfrom\u001b[0m \u001b[0mself\u001b[0m\u001b[0;34m.\u001b[0m\u001b[0m_plot_args\u001b[0m\u001b[0;34m(\u001b[0m\u001b[0mthis\u001b[0m\u001b[0;34m,\u001b[0m \u001b[0mkwargs\u001b[0m\u001b[0;34m)\u001b[0m\u001b[0;34m\u001b[0m\u001b[0;34m\u001b[0m\u001b[0m\n\u001b[0m\u001b[1;32m    394\u001b[0m \u001b[0;34m\u001b[0m\u001b[0m\n\u001b[1;32m    395\u001b[0m \u001b[0;34m\u001b[0m\u001b[0m\n",
      "\u001b[0;32m~/anaconda3/lib/python3.7/site-packages/matplotlib/axes/_base.py\u001b[0m in \u001b[0;36m_plot_args\u001b[0;34m(self, tup, kwargs)\u001b[0m\n\u001b[1;32m    368\u001b[0m             \u001b[0mx\u001b[0m\u001b[0;34m,\u001b[0m \u001b[0my\u001b[0m \u001b[0;34m=\u001b[0m \u001b[0mindex_of\u001b[0m\u001b[0;34m(\u001b[0m\u001b[0mtup\u001b[0m\u001b[0;34m[\u001b[0m\u001b[0;34m-\u001b[0m\u001b[0;36m1\u001b[0m\u001b[0;34m]\u001b[0m\u001b[0;34m)\u001b[0m\u001b[0;34m\u001b[0m\u001b[0;34m\u001b[0m\u001b[0m\n\u001b[1;32m    369\u001b[0m \u001b[0;34m\u001b[0m\u001b[0m\n\u001b[0;32m--> 370\u001b[0;31m         \u001b[0mx\u001b[0m\u001b[0;34m,\u001b[0m \u001b[0my\u001b[0m \u001b[0;34m=\u001b[0m \u001b[0mself\u001b[0m\u001b[0;34m.\u001b[0m\u001b[0m_xy_from_xy\u001b[0m\u001b[0;34m(\u001b[0m\u001b[0mx\u001b[0m\u001b[0;34m,\u001b[0m \u001b[0my\u001b[0m\u001b[0;34m)\u001b[0m\u001b[0;34m\u001b[0m\u001b[0;34m\u001b[0m\u001b[0m\n\u001b[0m\u001b[1;32m    371\u001b[0m \u001b[0;34m\u001b[0m\u001b[0m\n\u001b[1;32m    372\u001b[0m         \u001b[0;32mif\u001b[0m \u001b[0mself\u001b[0m\u001b[0;34m.\u001b[0m\u001b[0mcommand\u001b[0m \u001b[0;34m==\u001b[0m \u001b[0;34m'plot'\u001b[0m\u001b[0;34m:\u001b[0m\u001b[0;34m\u001b[0m\u001b[0;34m\u001b[0m\u001b[0m\n",
      "\u001b[0;32m~/anaconda3/lib/python3.7/site-packages/matplotlib/axes/_base.py\u001b[0m in \u001b[0;36m_xy_from_xy\u001b[0;34m(self, x, y)\u001b[0m\n\u001b[1;32m    229\u001b[0m         \u001b[0;32mif\u001b[0m \u001b[0mx\u001b[0m\u001b[0;34m.\u001b[0m\u001b[0mshape\u001b[0m\u001b[0;34m[\u001b[0m\u001b[0;36m0\u001b[0m\u001b[0;34m]\u001b[0m \u001b[0;34m!=\u001b[0m \u001b[0my\u001b[0m\u001b[0;34m.\u001b[0m\u001b[0mshape\u001b[0m\u001b[0;34m[\u001b[0m\u001b[0;36m0\u001b[0m\u001b[0;34m]\u001b[0m\u001b[0;34m:\u001b[0m\u001b[0;34m\u001b[0m\u001b[0;34m\u001b[0m\u001b[0m\n\u001b[1;32m    230\u001b[0m             raise ValueError(\"x and y must have same first dimension, but \"\n\u001b[0;32m--> 231\u001b[0;31m                              \"have shapes {} and {}\".format(x.shape, y.shape))\n\u001b[0m\u001b[1;32m    232\u001b[0m         \u001b[0;32mif\u001b[0m \u001b[0mx\u001b[0m\u001b[0;34m.\u001b[0m\u001b[0mndim\u001b[0m \u001b[0;34m>\u001b[0m \u001b[0;36m2\u001b[0m \u001b[0;32mor\u001b[0m \u001b[0my\u001b[0m\u001b[0;34m.\u001b[0m\u001b[0mndim\u001b[0m \u001b[0;34m>\u001b[0m \u001b[0;36m2\u001b[0m\u001b[0;34m:\u001b[0m\u001b[0;34m\u001b[0m\u001b[0;34m\u001b[0m\u001b[0m\n\u001b[1;32m    233\u001b[0m             raise ValueError(\"x and y can be no greater than 2-D, but have \"\n",
      "\u001b[0;31mValueError\u001b[0m: x and y must have same first dimension, but have shapes (20,) and (19,)"
     ]
    },
    {
     "data": {
      "image/png": "[encoded data removed]",
      "text/plain": [
       "<Figure size 432x360 with 2 Axes>"
      ]
     },
     "metadata": {
      "needs_background": "light"
     },
     "output_type": "display_data"
    }
   ],
   "source": [
    "f, (ax, ax2) = plt.subplots(2, 1, sharex=True,figsize=(6,5))\n",
    "ax.plot(energy_contr,deviations,'bo')\n",
    "ax2.plot(energy_contr,energies,'ro')\n",
    "\n",
    "\n",
    "\n",
    "# zoom-in / limit the view to different portions of the data\n",
    "offset=0.05\n",
    "ax.set_ylim(np.min(deviations)-offset, np.max(deviations[:-1])+offset)  # outliers only\n",
    "ax2.set_ylim(np.min(energies)-offset, np.max(energies[:-1])+offset)  # most of the data\n",
    "\n",
    "# hide the spines between ax and ax2\n",
    "ax.spines['bottom'].set_visible(False)\n",
    "ax2.spines['top'].set_visible(False)\n",
    "ax.xaxis.tick_top()\n",
    "ax.tick_params(labeltop='off')  # don't put tick labels at the top\n",
    "ax2.xaxis.tick_bottom()\n",
    "\n",
    "d = .015  # how big to make the diagonal lines in axes coordinates\n",
    "# arguments to pass to plot, just so we don't keep repeating them\n",
    "kwargs = dict(transform=ax.transAxes, color='k', clip_on=False)\n",
    "ax.plot((-d, +d), (-d, +d), **kwargs)        # top-left diagonal\n",
    "ax.plot((1 - d, 1 + d), (-d, +d), **kwargs)  # top-right diagonal\n",
    "\n",
    "kwargs.update(transform=ax2.transAxes)  # switch to the bottom axes\n",
    "ax2.plot((-d, +d), (1 - d, 1 + d), **kwargs)  # bottom-left diagonal\n",
    "ax2.plot((1 - d, 1 + d), (1 - d, 1 + d), **kwargs)  # bottom-right diagonal\n",
    "\n",
    "# What's cool about this is that now if we vary the distance between\n",
    "# ax and ax2 via f.subplots_adjust(hspace=...) or plt.subplot_tool(),\n",
    "# the diagonal lines will move accordingly, and stay right at the tips\n",
    "# of the spines they are 'breaking'"
   ]
  },
  {
   "cell_type": "code",
   "execution_count": 39,
   "metadata": {},
   "outputs": [
    {
     "name": "stdout",
     "output_type": "stream",
     "text": [
      "average deviation vector per atom:\t9.73700533304782e-05\n",
      "average deviation vector per atom:\t0.0011713347994577689\n",
      "average deviation vector per atom:\t0.0011902943347433927\n",
      "average deviation vector per atom:\t0.0015756686010751223\n",
      "average deviation vector per atom:\t0.0014262534612927236\n",
      "average deviation vector per atom:\t5.072752432492768e-06\n",
      "average deviation vector per atom:\t0.0015911676265757302\n",
      "average deviation vector per atom:\t4.449692413034147e-06\n",
      "average deviation vector per atom:\t5.222244392071072e-06\n",
      "average deviation vector per atom:\t8.866759868007447e-06\n",
      "average deviation vector per atom:\t2.638539173264373e-05\n",
      "average deviation vector per atom:\t1.9686745663573572e-05\n",
      "average deviation vector per atom:\t1.645313055861676e-05\n",
      "average deviation vector per atom:\t0.0005337113591836374\n",
      "average deviation vector per atom:\t0.03315155560808351\n",
      "average deviation vector per atom:\t0.11325778208590341\n",
      "average deviation vector per atom:\t0.00036845402874729837\n",
      "average deviation vector per atom:\t0.19112504844363157\n",
      "average deviation vector per atom:\t0.23154516542279743\n",
      "average deviation vector per atom:\t5.088207697084112\n"
     ]
    }
   ],
   "source": [
    "## forceplot (vectorplot)\n",
    "\n",
    "#f=plt.figure(figsize=(8,6))\n",
    "\n",
    "for i in range(atomarray.shape[0]):\n",
    "    atoms=np.array(atomarray[i][1]) ### energy 100, view 2\n",
    "    seens=np.array(seenarray[i][1])\n",
    "\n",
    "    deviationvector=np.sqrt(np.sum((np.sum((seens-atoms),axis=0))**2))\n",
    "    print('average deviation vector per atom:\\t'+str(deviationvector))\n",
    "    #plt.plot(atoms[:,0],atoms[:,1],'bo',ms=3)\n",
    "    #plt.plot(seens[:,0],seens[:,1],'ro',ms=3)\n",
    "#plt.quiver(atoms[:,0],atoms[:,1],seens[:,0]-atoms[:,0],seens[:,1]-atoms[:,1],\n",
    "#           scale=1,angles=\"xy\", scale_units=\"xy\")\n",
    "#plt.show()"
   ]
  },
  {
   "cell_type": "code",
   "execution_count": 33,
   "metadata": {},
   "outputs": [
    {
     "data": {
      "text/plain": [
       "(20, 2, 346, 2)"
      ]
     },
     "execution_count": 33,
     "metadata": {},
     "output_type": "execute_result"
    }
   ],
   "source": [
    "atomarray.shape"
   ]
  },
  {
   "cell_type": "code",
   "execution_count": 30,
   "metadata": {},
   "outputs": [
    {
     "data": {
      "text/plain": [
       "(346, 2)"
      ]
     },
     "execution_count": 30,
     "metadata": {},
     "output_type": "execute_result"
    }
   ],
   "source": [
    "atoms.shape"
   ]
  },
  {
   "cell_type": "code",
   "execution_count": 158,
   "metadata": {},
   "outputs": [
    {
     "data": {
      "text/plain": [
       "108.05517275572653"
      ]
     },
     "execution_count": 158,
     "metadata": {},
     "output_type": "execute_result"
    }
   ],
   "source": [
    "seens[aid,0]"
   ]
  },
  {
   "cell_type": "code",
   "execution_count": null,
   "metadata": {},
   "outputs": [],
   "source": []
  }
 ],
 "metadata": {
  "kernelspec": {
   "display_name": "Python 3",
   "language": "python",
   "name": "python3"
  },
  "language_info": {
   "codemirror_mode": {
    "name": "ipython",
    "version": 3
   },
   "file_extension": ".py",
   "mimetype": "text/x-python",
   "name": "python",
   "nbconvert_exporter": "python",
   "pygments_lexer": "ipython3",
   "version": "3.7.1"
  }
 },
 "nbformat": 4,
 "nbformat_minor": 2
}
