{
 "cells": [
  {
   "cell_type": "code",
   "execution_count": 2,
   "metadata": {},
   "outputs": [],
   "source": [
    "import numpy as np\n",
    "import matplotlib.pyplot as plt\n",
    "import os"
   ]
  },
  {
   "cell_type": "code",
   "execution_count": 51,
   "metadata": {},
   "outputs": [],
   "source": [
    "path='tests/'\n",
    "filename='noisy_projections.top'"
   ]
  },
  {
   "cell_type": "code",
   "execution_count": 52,
   "metadata": {},
   "outputs": [
    {
     "name": "stdout",
     "output_type": "stream",
     "text": [
      "reading tests/noisy_projections.top\n",
      "0.0\t-6.748923805466395\n",
      "reading tests/001/noisy_projections.top\n",
      "0.01\t-6.781474138028996\n",
      "reading tests/002/noisy_projections.top\n",
      "0.02\t-6.808105347206397\n",
      "reading tests/003/noisy_projections.top\n",
      "0.03\t-6.829536675837365\n",
      "reading tests/005/noisy_projections.top\n",
      "0.05\t-6.864806585934311\n",
      "reading tests/010/noisy_projections.top\n",
      "0.1\t-6.944839725847233\n",
      "reading tests/015/noisy_projections.top\n",
      "0.15\t-6.990990065488892\n",
      "reading tests/020/noisy_projections.top\n",
      "0.2\t-7.019507527487748\n",
      "reading tests/030/noisy_projections.top\n",
      "0.3\t-7.059596052563122\n",
      "reading tests/040/noisy_projections.top\n",
      "0.4\t-7.079811647550107\n",
      "reading tests/050/noisy_projections.top\n",
      "0.5\t-7.094865663066247\n",
      "reading tests/080/noisy_projections.top\n",
      "0.8\t-7.123192023953689\n",
      "reading tests/100/noisy_projections.top\n",
      "1.0\t-7.13817879131139\n"
     ]
    }
   ],
   "source": [
    "energy_contr=[]\n",
    "energies=[]\n",
    "deviations=[]\n",
    "for subdir, dirs, files in sorted(os.walk(path)):\n",
    "    for file in files:\n",
    "        if file==filename:\n",
    "            f=os.path.join(subdir, file)\n",
    "            print('reading '+f)\n",
    "            with open(f,'r') as inp:\n",
    "                for line in inp:\n",
    "                    splitline=line.strip().split('\\t')\n",
    "                    if line.startswith('#ENERGY_CONTRIBUTION'):\n",
    "                        ec=int(splitline[1])/100\n",
    "                        energy_contr.append(ec)\n",
    "                        continue                        \n",
    "                    if line.startswith('#ENERGY'):       \n",
    "                        en=float(splitline[1])\n",
    "                        energies.append(en)\n",
    "                        print(str(ec)+'\\t'+str(en))\n",
    "                        \n",
    "                    if line.startswith('#DEVIATION'):     \n",
    "                        dev=float(splitline[1])\n",
    "                        deviations.append(dev)\n",
    "                        continue\n",
    "                        "
   ]
  },
  {
   "cell_type": "code",
   "execution_count": 55,
   "metadata": {},
   "outputs": [
    {
     "data": {
      "text/plain": [
       "[<matplotlib.lines.Line2D at 0x7f60188f4828>]"
      ]
     },
     "execution_count": 55,
     "metadata": {},
     "output_type": "execute_result"
    },
    {
     "data": {
      "image/png": "[encoded data removed]",
      "text/plain": [
       "<Figure size 432x360 with 2 Axes>"
      ]
     },
     "metadata": {
      "needs_background": "light"
     },
     "output_type": "display_data"
    }
   ],
   "source": [
    "f, (ax, ax2) = plt.subplots(2, 1, sharex=True,figsize=(6,5))\n",
    "ax.plot(energy_contr,deviations,'bo')\n",
    "ax2.plot(energy_contr,energies,'ro')\n",
    "\n",
    "\n",
    "\n",
    "# zoom-in / limit the view to different portions of the data\n",
    "offset=0.05\n",
    "ax.set_ylim(np.min(deviations)-offset, np.max(deviations[:-1])+offset)  # outliers only\n",
    "ax2.set_ylim(np.min(energies)-offset, np.max(energies[:-1])+offset)  # most of the data\n",
    "\n",
    "# hide the spines between ax and ax2\n",
    "ax.spines['bottom'].set_visible(False)\n",
    "ax2.spines['top'].set_visible(False)\n",
    "ax.xaxis.tick_top()\n",
    "ax.tick_params(labeltop='off')  # don't put tick labels at the top\n",
    "ax2.xaxis.tick_bottom()\n",
    "\n",
    "d = .015  # how big to make the diagonal lines in axes coordinates\n",
    "# arguments to pass to plot, just so we don't keep repeating them\n",
    "kwargs = dict(transform=ax.transAxes, color='k', clip_on=False)\n",
    "ax.plot((-d, +d), (-d, +d), **kwargs)        # top-left diagonal\n",
    "ax.plot((1 - d, 1 + d), (-d, +d), **kwargs)  # top-right diagonal\n",
    "\n",
    "kwargs.update(transform=ax2.transAxes)  # switch to the bottom axes\n",
    "ax2.plot((-d, +d), (1 - d, 1 + d), **kwargs)  # bottom-left diagonal\n",
    "ax2.plot((1 - d, 1 + d), (1 - d, 1 + d), **kwargs)  # bottom-right diagonal\n",
    "\n",
    "# What's cool about this is that now if we vary the distance between\n",
    "# ax and ax2 via f.subplots_adjust(hspace=...) or plt.subplot_tool(),\n",
    "# the diagonal lines will move accordingly, and stay right at the tips\n",
    "# of the spines they are 'breaking'"
   ]
  },
  {
   "cell_type": "code",
   "execution_count": 30,
   "metadata": {},
   "outputs": [
    {
     "data": {
      "text/plain": [
       "[0.25085030682320136,\n",
       " 0.2511475458710626,\n",
       " 0.2524627877815823,\n",
       " 0.2534512701140409,\n",
       " 0.043454103315631834,\n",
       " 0.25601786984720665,\n",
       " 0.04586615312047361,\n",
       " 0.05078125574913786,\n",
       " 0.04783051208124983,\n",
       " 0.26826634843385067,\n",
       " 0.28001963259727186,\n",
       " 0.2904848431902257,\n",
       " 0.31065673809742317,\n",
       " 0.32722418109738727,\n",
       " 0.34586820963048626,\n",
       " 0.42031858186503446,\n",
       " 0.6755231332845721]"
      ]
     },
     "execution_count": 30,
     "metadata": {},
     "output_type": "execute_result"
    }
   ],
   "source": [
    "deviations"
   ]
  },
  {
   "cell_type": "code",
   "execution_count": null,
   "metadata": {},
   "outputs": [],
   "source": []
  }
 ],
 "metadata": {
  "kernelspec": {
   "display_name": "Python 3",
   "language": "python",
   "name": "python3"
  },
  "language_info": {
   "codemirror_mode": {
    "name": "ipython",
    "version": 3
   },
   "file_extension": ".py",
   "mimetype": "text/x-python",
   "name": "python",
   "nbconvert_exporter": "python",
   "pygments_lexer": "ipython3",
   "version": "3.7.1"
  }
 },
 "nbformat": 4,
 "nbformat_minor": 2
}
